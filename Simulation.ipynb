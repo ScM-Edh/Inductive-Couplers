{
 "cells": [
  {
   "cell_type": "code",
   "execution_count": 1,
   "id": "c3f16202",
   "metadata": {},
   "outputs": [],
   "source": [
    "%load_ext autoreload\n",
    "%autoreload 2"
   ]
  },
  {
   "cell_type": "code",
   "execution_count": 2,
   "id": "1f860570",
   "metadata": {},
   "outputs": [],
   "source": [
    "import qiskit_metal as metal\n",
    "from qiskit_metal import Dict, designs, MetalGUI"
   ]
  },
  {
   "cell_type": "code",
   "execution_count": 3,
   "id": "b1ff380b",
   "metadata": {},
   "outputs": [],
   "source": [
    "design = designs.DesignPlanar(overwrite_enabled=True)"
   ]
  },
  {
   "cell_type": "code",
   "execution_count": 4,
   "id": "4dec6ae2",
   "metadata": {},
   "outputs": [],
   "source": [
    "gui = MetalGUI(design)"
   ]
  },
  {
   "cell_type": "code",
   "execution_count": 5,
   "id": "85bdae6a",
   "metadata": {},
   "outputs": [],
   "source": [
    "design.variables['cpw_width']='20um'\n",
    "design.variables['cpw_gap']='12um'"
   ]
  },
  {
   "cell_type": "markdown",
   "id": "bb2e87f6",
   "metadata": {},
   "source": [
    "# Capacitors"
   ]
  },
  {
   "cell_type": "code",
   "execution_count": 6,
   "id": "fcd0117a",
   "metadata": {},
   "outputs": [
    {
     "data": {
      "text/plain": [
       "{'chip': 'main',\n",
       " 'layer': '1',\n",
       " 'pin_inputs': {'start_pin': {'component': '', 'pin': ''},\n",
       "  'end_pin': {'component': '', 'pin': ''}},\n",
       " 'fillet': '0',\n",
       " 'lead': {'start_straight': '0mm',\n",
       "  'end_straight': '0mm',\n",
       "  'start_jogged_extension': '',\n",
       "  'end_jogged_extension': ''},\n",
       " 'total_length': '7mm',\n",
       " 'trace_width': 'cpw_width',\n",
       " 'hfss_wire_bonds': False,\n",
       " 'q3d_wire_bonds': False}"
      ]
     },
     "execution_count": 6,
     "metadata": {},
     "output_type": "execute_result"
    }
   ],
   "source": [
    "from qiskit_metal.qlibrary.tlines.framed_path import RouteFramed\n",
    "from qiskit_metal.qlibrary.terminations.open_to_ground import OpenToGround\n",
    "import numpy as np\n",
    "from collections import OrderedDict\n",
    "from qiskit_metal.qlibrary.tlines.anchored_path import RouteAnchors\n",
    "RouteFramed.get_template_options(design)"
   ]
  },
  {
   "cell_type": "code",
   "execution_count": 7,
   "id": "084f227d",
   "metadata": {},
   "outputs": [],
   "source": [
    "# Capacitor 1\n",
    "\n",
    "otg11 = OpenToGround(design, 'OTG11', options=Dict(\n",
    "    pos_x='0mm',\n",
    "    pos_y='0mm',\n",
    "    orientation='180',\n",
    "    width='20um',\n",
    "    gap='12um',\n",
    "    termination_gap='12um'\n",
    "))\n",
    "otg12 = OpenToGround(design, 'OTG12', options=Dict(\n",
    "    pos_x='3mm',\n",
    "    pos_y='0mm',\n",
    "    orientation='0',\n",
    "    width='20um',\n",
    "    gap='12um',\n",
    "    termination_gap='12um'\n",
    "))\n",
    "otg13 = OpenToGround(design, 'OTG13', options=Dict(\n",
    "    pos_x='1mm',\n",
    "    pos_y='-70um',\n",
    "    orientation='180',\n",
    "    width='20um',\n",
    "    gap='12um',\n",
    "    termination_gap='12um'\n",
    "))\n",
    "otg14 = OpenToGround(design, 'OTG14', options=Dict(\n",
    "    pos_x='2mm',\n",
    "    pos_y='-1mm',\n",
    "    orientation='-90',\n",
    "    width='20um',\n",
    "    gap='12um',\n",
    "    termination_gap='12um'\n",
    "))\n",
    "\n",
    "cap_opt = Dict(\n",
    "    pin_inputs=Dict(\n",
    "        start_pin=Dict(\n",
    "            pin='open'\n",
    "        ),\n",
    "        end_pin=Dict(\n",
    "            pin='open'\n",
    "        )\n",
    "    ),\n",
    "    fillet='130um'\n",
    ")\n",
    "\n",
    "cap_opt.pin_inputs.start_pin.component='OTG11'\n",
    "cap_opt.pin_inputs.end_pin.component='OTG12'\n",
    "cap11 = RouteFramed(design, 'CAP11', options=cap_opt)\n",
    "cap_opt.pin_inputs.start_pin.component='OTG13'\n",
    "cap_opt.pin_inputs.end_pin.component='OTG14'\n",
    "cap12 = RouteFramed(design, 'CAP12', options=cap_opt)\n",
    "\n",
    "gui.rebuild()\n",
    "gui.autoscale()"
   ]
  },
  {
   "cell_type": "code",
   "execution_count": 8,
   "id": "b1bd0612",
   "metadata": {},
   "outputs": [],
   "source": [
    "# Capacitor 2\n",
    "\n",
    "anchors = OrderedDict()\n",
    "anchors[0] = np.array([5.5, -0.07])\n",
    "\n",
    "otg21 = OpenToGround(design, 'OTG21', options=Dict(\n",
    "    pos_x='4mm',\n",
    "    pos_y='0mm',\n",
    "    orientation='180',\n",
    "    width='20um',\n",
    "    gap='12um',\n",
    "    termination_gap='12um'\n",
    "))\n",
    "otg22 = OpenToGround(design, 'OTG22', options=Dict(\n",
    "    pos_x='7mm',\n",
    "    pos_y='0mm',\n",
    "    orientation='0',\n",
    "    width='20um',\n",
    "    gap='12um',\n",
    "    termination_gap='12um'\n",
    "))\n",
    "otg23 = OpenToGround(design, 'OTG23', options=Dict(\n",
    "    pos_x='5mm',\n",
    "    pos_y='-1mm',\n",
    "    orientation='-90',\n",
    "    width='20um',\n",
    "    gap='12um',\n",
    "    termination_gap='12um'\n",
    "))\n",
    "otg24 = OpenToGround(design, 'OTG24', options=Dict(\n",
    "    pos_x='6mm',\n",
    "    pos_y='-1mm',\n",
    "    orientation='-90',\n",
    "    width='20um',\n",
    "    gap='12um',\n",
    "    termination_gap='12um'\n",
    "))\n",
    "\n",
    "cap_opt = Dict(\n",
    "    pin_inputs=Dict(\n",
    "        start_pin=Dict(\n",
    "            pin='open'\n",
    "        ),\n",
    "        end_pin=Dict(\n",
    "            pin='open'\n",
    "        )\n",
    "    ),\n",
    "    fillet='130um'\n",
    ")\n",
    "\n",
    "cap_opt.pin_inputs.start_pin.component='OTG21'\n",
    "cap_opt.pin_inputs.end_pin.component='OTG22'\n",
    "cap21 = RouteFramed(design, 'CAP21', options=cap_opt)\n",
    "cap_opt.pin_inputs.start_pin.component='OTG23'\n",
    "cap_opt.pin_inputs.end_pin.component='OTG24'\n",
    "cap_opt.anchors = anchors\n",
    "cap22 = RouteAnchors(design, 'CAP22', options=cap_opt)\n",
    "\n",
    "gui.rebuild()\n",
    "gui.autoscale()"
   ]
  },
  {
   "cell_type": "code",
   "execution_count": 9,
   "id": "32bb5e9d",
   "metadata": {},
   "outputs": [
    {
     "data": {
      "text/plain": [
       "True"
      ]
     },
     "execution_count": 9,
     "metadata": {},
     "output_type": "execute_result"
    }
   ],
   "source": [
    "gui.main_window.close()"
   ]
  }
 ],
 "metadata": {
  "kernelspec": {
   "display_name": "quantum_devices",
   "language": "python",
   "name": "python3"
  },
  "language_info": {
   "codemirror_mode": {
    "name": "ipython",
    "version": 3
   },
   "file_extension": ".py",
   "mimetype": "text/x-python",
   "name": "python",
   "nbconvert_exporter": "python",
   "pygments_lexer": "ipython3",
   "version": "3.11.10"
  }
 },
 "nbformat": 4,
 "nbformat_minor": 5
}
